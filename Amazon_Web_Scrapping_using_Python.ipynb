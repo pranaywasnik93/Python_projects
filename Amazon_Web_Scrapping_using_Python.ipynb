{
 "cells": [
  {
   "cell_type": "code",
   "execution_count": 10,
   "id": "8fc3411c-5920-46b3-b23e-deae312a03be",
   "metadata": {},
   "outputs": [],
   "source": [
    "import pandas as pd\n",
    "import numpy as np\n",
    "\n",
    "from bs4 import BeautifulSoup\n",
    "import requests\n",
    "#import smtplib\n",
    "import time\n",
    "import datetime"
   ]
  },
  {
   "cell_type": "code",
   "execution_count": 140,
   "id": "ae1d3818-ce92-4de4-9850-25087cee8f65",
   "metadata": {},
   "outputs": [
    {
     "ename": "AttributeError",
     "evalue": "'NoneType' object has no attribute 'get_text'",
     "output_type": "error",
     "traceback": [
      "\u001b[1;31m---------------------------------------------------------------------------\u001b[0m",
      "\u001b[1;31mAttributeError\u001b[0m                            Traceback (most recent call last)",
      "Cell \u001b[1;32mIn[140], line 16\u001b[0m\n\u001b[0;32m     13\u001b[0m soup2 \u001b[38;5;241m=\u001b[39m BeautifulSoup(soup1\u001b[38;5;241m.\u001b[39mprettify(), \u001b[38;5;124m\"\u001b[39m\u001b[38;5;124mhtml.parser\u001b[39m\u001b[38;5;124m\"\u001b[39m)\n\u001b[0;32m     14\u001b[0m \u001b[38;5;66;03m#print(soup2)\u001b[39;00m\n\u001b[1;32m---> 16\u001b[0m title \u001b[38;5;241m=\u001b[39m soup2\u001b[38;5;241m.\u001b[39mfind(\u001b[38;5;28mid\u001b[39m\u001b[38;5;241m=\u001b[39m\u001b[38;5;124m'\u001b[39m\u001b[38;5;124mproductTitle\u001b[39m\u001b[38;5;124m'\u001b[39m)\u001b[38;5;241m.\u001b[39mget_text()\n\u001b[0;32m     18\u001b[0m price \u001b[38;5;241m=\u001b[39m soup2\u001b[38;5;241m.\u001b[39mfind(class_\u001b[38;5;241m=\u001b[39m\u001b[38;5;124m'\u001b[39m\u001b[38;5;124ma-price-whole\u001b[39m\u001b[38;5;124m'\u001b[39m)\u001b[38;5;241m.\u001b[39mget_text()\n\u001b[0;32m     21\u001b[0m \u001b[38;5;28mprint\u001b[39m(title)\n",
      "\u001b[1;31mAttributeError\u001b[0m: 'NoneType' object has no attribute 'get_text'"
     ]
    }
   ],
   "source": [
    "# Connect to Website and pull in data\n",
    "\n",
    "URL = 'https://www.amazon.in/DUDEME-Developer-Sleeve-Coding-Programmer/dp/B08GPDZLPR/ref=sr_1_9?crid=1IAZHXRGCNX7N&dib=eyJ2IjoiMSJ9.swzRahqBJEbRwM4kWFJmJOVU0rlmMM3wPGSgELYrx1hSEu_eepV_0LokwxmqkPdxCiwvl_lS6hV8QQQrdP2UlXvJhoZyUiBkCpf_O8XrbcvjhA70aW0I5CiSya3MAa67HOyUutqBXDBswLFc3Y73zWkKrHOrF4xymGuPMVMrdaIYHwbhVzOQ7AAvB-kG-SrwpMPSp_-4lo4Li7VSUSKfK665cLW6-w7rd8YKoxTvmiMXQFWnqqbyvXmbmSfnVbPdQP94kReuyYstrbHcC7FJut8T8wMzSibVqzcTBh1qDEs.JeZmdjXraSZ0QED6oA8FKOz2jb4kGujQoCarRXIcTjc&dib_tag=se&keywords=data+analyst+tshirt+men&qid=1734644112&sprefix=data+analyst+tshirt+men%2Caps%2C1073&sr=8-9'\n",
    "\n",
    "headers = {\"User-Agent\":\"Mozilla/5.0 (Windows NT 10.0; Win64; x64) AppleWebKit/537.36 (KHTML, like Gecko) Chrome/131.0.0.0 Safari/537.36\", \"Accept-Encoding\":\"gzip, deflate\", \"Accept\":\"text/html,application/xhtml+xml,application/xml;q=0.9,*/*;q=0.8\", \"DNT\":\"1\",\"Connection\":\"close\", \"Upgrade-Insecure-Requests\":\"1\"}\n",
    "\n",
    "# \"User-Agent\" = https://httpbin.org/get\n",
    "\n",
    "page = requests.get(URL, headers=headers)\n",
    "\n",
    "soup1 = BeautifulSoup(page.content, \"html.parser\")\n",
    "#print(soup1)\n",
    "soup2 = BeautifulSoup(soup1.prettify(), \"html.parser\")\n",
    "#print(soup2)\n",
    "\n",
    "title = soup2.find(id='productTitle').get_text()\n",
    "\n",
    "price = soup2.find(class_='a-price-whole').get_text()\n",
    "\n",
    "\n",
    "print(title)\n",
    "print(price)\n",
    "\n",
    "## Amazon frequently changes the HTML structure of their product pages, including IDs of elements.thats why we have to change id and class evry time we run program"
   ]
  },
  {
   "cell_type": "code",
   "execution_count": 138,
   "id": "bc714ba5-82d1-4d7a-b029-fdefa8a80fe7",
   "metadata": {},
   "outputs": [
    {
     "name": "stdout",
     "output_type": "stream",
     "text": [
      "DUDEME iOS Developer T-Shirt, 100% Cotton T-Shirts for Programmer, Coding, Developer, Software Mens, Round Neck T Shirts for Women, Half Sleeve Tshirt for Men\n",
      "499\n"
     ]
    }
   ],
   "source": [
    "# clean the data a little bit\n",
    "\n",
    "price = price.strip()\n",
    "title = title.strip()\n",
    "\n",
    "print(title)\n",
    "print(price)"
   ]
  },
  {
   "cell_type": "code",
   "execution_count": 86,
   "id": "9eccf357-80a7-41a4-8813-6283714bae0c",
   "metadata": {},
   "outputs": [
    {
     "name": "stdout",
     "output_type": "stream",
     "text": [
      "DUDEME iOS Developer T-Shirt\n",
      "499\n"
     ]
    }
   ],
   "source": [
    "title = title.split(\",\")[0]\n",
    "\n",
    "print(title)\n",
    "print(price)"
   ]
  },
  {
   "cell_type": "code",
   "execution_count": 94,
   "id": "26767c8c-03b7-41ab-a371-588e598bdf51",
   "metadata": {},
   "outputs": [
    {
     "name": "stdout",
     "output_type": "stream",
     "text": [
      "2024-12-20\n"
     ]
    }
   ],
   "source": [
    "#give it a time stamp\n",
    "import datetime\n",
    "\n",
    "today = datetime.date.today()\n",
    "print(today)"
   ]
  },
  {
   "cell_type": "code",
   "execution_count": 96,
   "id": "05e9a8c7-58ed-469c-875d-9071ae3a8336",
   "metadata": {},
   "outputs": [],
   "source": [
    "# Create CSV and write headers and data into the file\n",
    "\n",
    "import csv \n",
    "\n",
    "header = ['Title', 'Price','Date']\n",
    "data = [title, price, today]\n",
    "\n",
    "\n",
    "with open(r'C:\\pranay practice\\Projects\\Python projects\\AmazonWebScraperDataset.csv', 'w', newline='', encoding='UTF8') as f :\n",
    "    writer = csv.writer(f)\n",
    "    writer.writerow(header)\n",
    "    writer.writerow(data)"
   ]
  },
  {
   "cell_type": "code",
   "execution_count": 98,
   "id": "e89885ac-2705-4366-b57f-8ab91c573f15",
   "metadata": {},
   "outputs": [
    {
     "data": {
      "text/html": [
       "<div>\n",
       "<style scoped>\n",
       "    .dataframe tbody tr th:only-of-type {\n",
       "        vertical-align: middle;\n",
       "    }\n",
       "\n",
       "    .dataframe tbody tr th {\n",
       "        vertical-align: top;\n",
       "    }\n",
       "\n",
       "    .dataframe thead th {\n",
       "        text-align: right;\n",
       "    }\n",
       "</style>\n",
       "<table border=\"1\" class=\"dataframe\">\n",
       "  <thead>\n",
       "    <tr style=\"text-align: right;\">\n",
       "      <th></th>\n",
       "      <th>Title</th>\n",
       "      <th>Price</th>\n",
       "      <th>Date</th>\n",
       "    </tr>\n",
       "  </thead>\n",
       "  <tbody>\n",
       "    <tr>\n",
       "      <th>0</th>\n",
       "      <td>DUDEME iOS Developer T-Shirt</td>\n",
       "      <td>499</td>\n",
       "      <td>2024-12-20</td>\n",
       "    </tr>\n",
       "  </tbody>\n",
       "</table>\n",
       "</div>"
      ],
      "text/plain": [
       "                          Title  Price        Date\n",
       "0  DUDEME iOS Developer T-Shirt    499  2024-12-20"
      ]
     },
     "execution_count": 98,
     "metadata": {},
     "output_type": "execute_result"
    }
   ],
   "source": [
    "df = pd.read_csv(r\"C:\\pranay practice\\Projects\\Python projects\\AmazonWebScraperDataset.csv\")\n",
    "df"
   ]
  },
  {
   "cell_type": "code",
   "execution_count": 100,
   "id": "28ea534a-c99c-4f81-8d71-b395cb2f0cad",
   "metadata": {},
   "outputs": [],
   "source": [
    "# now we are appending data to csv\n",
    "\n",
    "# with open(r'C:\\pranay practice\\Projects\\Python projects\\AmazonWebScraperDataset.csv', 'a+', newline='', encoding='UTF8') as f :\n",
    "#     writer = csv.writer(f)\n",
    "#     writer.writerow(data)\n",
    "\n",
    "# if we run above code again and again it will append the same date again and again"
   ]
  },
  {
   "cell_type": "code",
   "execution_count": null,
   "id": "cd485b09-cd40-49c8-99f9-4d08cc2ec0e5",
   "metadata": {},
   "outputs": [],
   "source": [
    "\n",
    "\n",
    "def check_price() :\n",
    "    URL = 'https://www.amazon.in/DUDEME-Developer-Sleeve-Coding-Programmer/dp/B08GPDZLPR/ref=sr_1_9?crid=1IAZHXRGCNX7N&dib=eyJ2IjoiMSJ9.swzRahqBJEbRwM4kWFJmJOVU0rlmMM3wPGSgELYrx1hSEu_eepV_0LokwxmqkPdxCiwvl_lS6hV8QQQrdP2UlXvJhoZyUiBkCpf_O8XrbcvjhA70aW0I5CiSya3MAa67HOyUutqBXDBswLFc3Y73zWkKrHOrF4xymGuPMVMrdaIYHwbhVzOQ7AAvB-kG-SrwpMPSp_-4lo4Li7VSUSKfK665cLW6-w7rd8YKoxTvmiMXQFWnqqbyvXmbmSfnVbPdQP94kReuyYstrbHcC7FJut8T8wMzSibVqzcTBh1qDEs.JeZmdjXraSZ0QED6oA8FKOz2jb4kGujQoCarRXIcTjc&dib_tag=se&keywords=data+analyst+tshirt+men&qid=1734644112&sprefix=data+analyst+tshirt+men%2Caps%2C1073&sr=8-9'\n",
    "\n",
    "    headers = {\"User-Agent\":\"Mozilla/5.0 (Windows NT 10.0; Win64; x64) AppleWebKit/537.36 (KHTML, like Gecko) Chrome/131.0.0.0 Safari/537.36\", \"Accept-Encoding\":\"gzip, deflate\", \"Accept\":\"text/html,application/xhtml+xml,application/xml;q=0.9,*/*;q=0.8\", \"DNT\":\"1\",\"Connection\":\"close\", \"Upgrade-Insecure-Requests\":\"1\"}\n",
    "\n",
    "    # \"User-Agent\" = https://httpbin.org/get\n",
    "\n",
    "    page = requests.get(URL, headers=headers)\n",
    "\n",
    "    soup1 = BeautifulSoup(page.content, \"html.parser\")\n",
    "    #print(soup1)\n",
    "    soup2 = BeautifulSoup(soup1.prettify(), \"html.parser\")\n",
    "    #print(soup2)\n",
    "\n",
    "    price = soup2.find(class_='a-price-whole').get_text()\n",
    "\n",
    "    title = soup2.find(id='titleSection').get_text()\n",
    "\n",
    "\n",
    "    price = price.strip()\n",
    "    title = title.strip()\n",
    "\n",
    "    title = title.split(\",\")[0]\n",
    "    \n",
    "\n",
    "    import datetime\n",
    "\n",
    "    today = datetime.date.today()\n",
    "\n",
    "\n",
    "    import csv \n",
    "\n",
    "    header = ['Title', 'Price','Date']\n",
    "    data = [title, price, today]\n",
    "\n",
    "\n",
    "    with open(r'C:\\pranay practice\\Projects\\Python projects\\AmazonWebScraperDataset.csv', 'a+', newline='', encoding='UTF8') as f :\n",
    "        writer = csv.writer(f)\n",
    "        writer.writerow(data)\n",
    "\n"
   ]
  },
  {
   "cell_type": "code",
   "execution_count": null,
   "id": "c56c3343-125e-4d1b-8c4c-886886a93cc9",
   "metadata": {},
   "outputs": [],
   "source": [
    "while(True) :\n",
    "    check_price()\n",
    "    time.sleep(86400)                         # every 24 hours"
   ]
  },
  {
   "cell_type": "code",
   "execution_count": null,
   "id": "3dcfafdc-7edd-4a1e-8c3b-f34923e43ee5",
   "metadata": {},
   "outputs": [],
   "source": [
    "df = pd.read_csv(r\"C:\\pranay practice\\Projects\\Python projects\\AmazonWebScraperDataset.csv\")\n",
    "df"
   ]
  },
  {
   "cell_type": "code",
   "execution_count": null,
   "id": "e24b12cc-2ec7-479b-b89d-009048ac966d",
   "metadata": {},
   "outputs": [],
   "source": []
  }
 ],
 "metadata": {
  "kernelspec": {
   "display_name": "Python 3 (ipykernel)",
   "language": "python",
   "name": "python3"
  },
  "language_info": {
   "codemirror_mode": {
    "name": "ipython",
    "version": 3
   },
   "file_extension": ".py",
   "mimetype": "text/x-python",
   "name": "python",
   "nbconvert_exporter": "python",
   "pygments_lexer": "ipython3",
   "version": "3.12.7"
  }
 },
 "nbformat": 4,
 "nbformat_minor": 5
}
